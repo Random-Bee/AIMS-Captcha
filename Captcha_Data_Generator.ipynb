{
 "cells": [
  {
   "cell_type": "code",
   "execution_count": 1,
   "id": "8547ed9b",
   "metadata": {},
   "outputs": [],
   "source": [
    "from tqdm import tqdm\n",
    "import cv2 as cv\n",
    "import os\n",
    "import shutil\n",
    "import requests"
   ]
  },
  {
   "cell_type": "code",
   "execution_count": 4,
   "id": "192bd882",
   "metadata": {},
   "outputs": [],
   "source": [
    "# get 500 images for each class\n",
    "def getData():\n",
    "    class_names = ['0','1','2','3','4','5','6','7','8','9','a','b','c','d','e','f','g','h','i','j','k',\n",
    "                   'l','m','n','o','p','q','r','s','t','u','v','w','x','y','z','A','B','C','D','E','F',\n",
    "                   'G','H','I','J','K','L','M','N','O','P','Q','R','S','T','U','V','W','X','Y','Z']\n",
    "    p=0\n",
    "    for i in tqdm(class_names):\n",
    "        n=0\n",
    "        if os.path.exists(f'Data/{p}') == False:\n",
    "            os.makedirs(f'Data/{p}')\n",
    "        for j in range(0,100):\n",
    "            url = f'https://aims.iith.ac.in/aims/captcha/getCaptchaByString/{i}{i}{i}{i}{i}'\n",
    "            file_name = \"1.jpeg\"\n",
    "            res = requests.get(url, stream = True)\n",
    "            if res.status_code == 200:\n",
    "                with open(file_name,'wb') as f:\n",
    "                    shutil.copyfileobj(res.raw, f)\n",
    "                img = cv.imread(file_name)\n",
    "                w = int(img.shape[1]/5)\n",
    "                for k in range(0,5):\n",
    "                    cv.imwrite(f'Data/{p}/{n}.jpg', img[:,k*w:(k+1)*w])\n",
    "                    n += 1\n",
    "            else:\n",
    "                print('Image Couldn\\'t be retrieved')\n",
    "        p+=1"
   ]
  },
  {
   "cell_type": "code",
   "execution_count": 5,
   "id": "c56c3a04",
   "metadata": {
    "scrolled": true
   },
   "outputs": [
    {
     "name": "stderr",
     "output_type": "stream",
     "text": [
      "100%|███████████████████████████████████████████| 62/62 [08:11<00:00,  7.93s/it]\n"
     ]
    }
   ],
   "source": [
    "getData()"
   ]
  },
  {
   "cell_type": "code",
   "execution_count": null,
   "id": "4a5b8e0b",
   "metadata": {},
   "outputs": [],
   "source": []
  }
 ],
 "metadata": {
  "kernelspec": {
   "display_name": "Python 3 (ipykernel)",
   "language": "python",
   "name": "python3"
  },
  "language_info": {
   "codemirror_mode": {
    "name": "ipython",
    "version": 3
   },
   "file_extension": ".py",
   "mimetype": "text/x-python",
   "name": "python",
   "nbconvert_exporter": "python",
   "pygments_lexer": "ipython3",
   "version": "3.9.12"
  }
 },
 "nbformat": 4,
 "nbformat_minor": 5
}
