{
 "cells": [
  {
   "cell_type": "code",
   "execution_count": 2,
   "id": "b4666977",
   "metadata": {},
   "outputs": [],
   "source": [
    "import numpy as np\n",
    "import matplotlib.pyplot as plt\n",
    "import tensorflow as tf\n",
    "import cv2 as cv\n",
    "from tqdm import tqdm\n",
    "from tensorflow.keras.models import Sequential\n",
    "from tensorflow.keras.layers import Activation, Dense, Flatten, BatchNormalization, Conv2D, MaxPool2D\n",
    "from tensorflow.keras import datasets, layers, models\n",
    "from tensorflow.keras.optimizers import Adam\n",
    "from tensorflow.keras.metrics import sparse_categorical_crossentropy\n",
    "import warnings\n",
    "warnings.simplefilter(action='ignore', category=FutureWarning)"
   ]
  },
  {
   "cell_type": "code",
   "execution_count": 3,
   "id": "88d90f11",
   "metadata": {},
   "outputs": [],
   "source": [
    "def load_data(path):\n",
    "    data = np.array([])\n",
    "    label = np.array([])\n",
    "    data = np.zeros((31000,50,30))\n",
    "    label = np.zeros(31000)\n",
    "    k = 0\n",
    "    l = 0\n",
    "    for i in tqdm(range(0,62)):\n",
    "        for j in range(0,500):\n",
    "            img = cv.imread(str(path) + f'/{i}/{j}.jpg')\n",
    "            img = cv.cvtColor(img, cv.COLOR_BGR2GRAY)\n",
    "            img[img<=115]=0\n",
    "            data[k] = np.array(img).reshape(50,30)\n",
    "            label[k] = l\n",
    "            k += 1\n",
    "        l += 1\n",
    "    return (data,label)"
   ]
  },
  {
   "cell_type": "code",
   "execution_count": 4,
   "id": "79d1a2cb",
   "metadata": {},
   "outputs": [
    {
     "name": "stderr",
     "output_type": "stream",
     "text": [
      "100%|███████████████████████████████████████████| 62/62 [00:04<00:00, 14.21it/s]\n"
     ]
    }
   ],
   "source": [
    "imgs, labels = load_data('Data')"
   ]
  },
  {
   "cell_type": "code",
   "execution_count": 6,
   "id": "18273b16",
   "metadata": {},
   "outputs": [],
   "source": [
    "model = models.Sequential()\n",
    "model.add(layers.Conv2D(16, (3, 3), activation='relu', input_shape=(50,30,1)))\n",
    "model.add(layers.MaxPooling2D((2, 2)))\n",
    "model.add(layers.Conv2D(32, (3, 3), activation='relu', padding = 'same'))\n",
    "model.add(layers.MaxPooling2D((2, 2)))\n",
    "model.add(layers.BatchNormalization())\n",
    "model.add(layers.Conv2D(64, (3, 3), activation='relu'))\n",
    "model.add(layers.BatchNormalization())\n",
    "model.add(layers.Conv2D(128, (3, 3), activation='relu', padding='same'))"
   ]
  },
  {
   "cell_type": "code",
   "execution_count": 7,
   "id": "ffe68571",
   "metadata": {},
   "outputs": [],
   "source": [
    "model.add(layers.Flatten())\n",
    "model.add(layers.Dense(32, activation='relu'))\n",
    "model.add(layers.Dense(16,activation='relu'))\n",
    "model.add(layers.Dense(62))"
   ]
  },
  {
   "cell_type": "code",
   "execution_count": 8,
   "id": "962fff7d",
   "metadata": {},
   "outputs": [
    {
     "name": "stdout",
     "output_type": "stream",
     "text": [
      "Model: \"sequential_1\"\n",
      "_________________________________________________________________\n",
      " Layer (type)                Output Shape              Param #   \n",
      "=================================================================\n",
      " conv2d_4 (Conv2D)           (None, 48, 28, 16)        160       \n",
      "                                                                 \n",
      " max_pooling2d_2 (MaxPooling  (None, 24, 14, 16)       0         \n",
      " 2D)                                                             \n",
      "                                                                 \n",
      " conv2d_5 (Conv2D)           (None, 24, 14, 32)        4640      \n",
      "                                                                 \n",
      " max_pooling2d_3 (MaxPooling  (None, 12, 7, 32)        0         \n",
      " 2D)                                                             \n",
      "                                                                 \n",
      " batch_normalization_2 (Batc  (None, 12, 7, 32)        128       \n",
      " hNormalization)                                                 \n",
      "                                                                 \n",
      " conv2d_6 (Conv2D)           (None, 10, 5, 64)         18496     \n",
      "                                                                 \n",
      " batch_normalization_3 (Batc  (None, 10, 5, 64)        256       \n",
      " hNormalization)                                                 \n",
      "                                                                 \n",
      " conv2d_7 (Conv2D)           (None, 10, 5, 128)        73856     \n",
      "                                                                 \n",
      " flatten (Flatten)           (None, 6400)              0         \n",
      "                                                                 \n",
      " dense (Dense)               (None, 32)                204832    \n",
      "                                                                 \n",
      " dense_1 (Dense)             (None, 16)                528       \n",
      "                                                                 \n",
      " dense_2 (Dense)             (None, 62)                1054      \n",
      "                                                                 \n",
      "=================================================================\n",
      "Total params: 303,950\n",
      "Trainable params: 303,758\n",
      "Non-trainable params: 192\n",
      "_________________________________________________________________\n"
     ]
    }
   ],
   "source": [
    "model.summary()"
   ]
  },
  {
   "cell_type": "code",
   "execution_count": 9,
   "id": "64b74b2e",
   "metadata": {},
   "outputs": [],
   "source": [
    "model.compile(optimizer=Adam(learning_rate=0.001),\n",
    "              loss=tf.keras.losses.SparseCategoricalCrossentropy(from_logits=True),\n",
    "              metrics=['accuracy'])"
   ]
  },
  {
   "cell_type": "code",
   "execution_count": 10,
   "id": "ad63c88e",
   "metadata": {},
   "outputs": [
    {
     "name": "stdout",
     "output_type": "stream",
     "text": [
      "Epoch 1/10\n",
      "969/969 [==============================] - 24s 23ms/step - loss: 0.6765 - accuracy: 0.8185\n",
      "Epoch 2/10\n",
      "969/969 [==============================] - 22s 22ms/step - loss: 0.0362 - accuracy: 0.9894\n",
      "Epoch 3/10\n",
      "969/969 [==============================] - 21s 22ms/step - loss: 0.0385 - accuracy: 0.9883\n",
      "Epoch 4/10\n",
      "969/969 [==============================] - 21s 22ms/step - loss: 0.0317 - accuracy: 0.9912\n",
      "Epoch 5/10\n",
      "969/969 [==============================] - 21s 22ms/step - loss: 0.0255 - accuracy: 0.9929\n",
      "Epoch 6/10\n",
      "969/969 [==============================] - 21s 22ms/step - loss: 0.0068 - accuracy: 0.9979\n",
      "Epoch 7/10\n",
      "969/969 [==============================] - 21s 21ms/step - loss: 0.0026 - accuracy: 0.9992\n",
      "Epoch 8/10\n",
      "969/969 [==============================] - 21s 21ms/step - loss: 0.0326 - accuracy: 0.9917\n",
      "Epoch 9/10\n",
      "969/969 [==============================] - 21s 22ms/step - loss: 0.0048 - accuracy: 0.9986\n",
      "Epoch 10/10\n",
      "969/969 [==============================] - 21s 22ms/step - loss: 0.0025 - accuracy: 0.9993\n"
     ]
    }
   ],
   "source": [
    "history = model.fit(imgs, labels, epochs=10)"
   ]
  },
  {
   "cell_type": "code",
   "execution_count": 11,
   "id": "862c32de",
   "metadata": {},
   "outputs": [],
   "source": [
    "model.save(\"Model/captcha.h5\")"
   ]
  },
  {
   "cell_type": "code",
   "execution_count": null,
   "id": "fabc7648",
   "metadata": {},
   "outputs": [],
   "source": []
  }
 ],
 "metadata": {
  "kernelspec": {
   "display_name": "Python 3 (ipykernel)",
   "language": "python",
   "name": "python3"
  },
  "language_info": {
   "codemirror_mode": {
    "name": "ipython",
    "version": 3
   },
   "file_extension": ".py",
   "mimetype": "text/x-python",
   "name": "python",
   "nbconvert_exporter": "python",
   "pygments_lexer": "ipython3",
   "version": "3.9.12"
  }
 },
 "nbformat": 4,
 "nbformat_minor": 5
}
